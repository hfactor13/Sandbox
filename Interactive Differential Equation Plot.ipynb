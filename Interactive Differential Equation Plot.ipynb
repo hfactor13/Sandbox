{
 "cells": [
  {
   "cell_type": "markdown",
   "metadata": {},
   "source": [
    "# Simulation of a simple Mass-Spring-Damper System"
   ]
  },
  {
   "cell_type": "code",
   "execution_count": 1,
   "metadata": {},
   "outputs": [],
   "source": [
    "import numpy as np\n",
    "from scipy.integrate import odeint\n",
    "from matplotlib import pyplot as plt\n",
    "import ipywidgets as wg\n",
    "from IPython.display import Image"
   ]
  },
  {
   "cell_type": "code",
   "execution_count": 2,
   "metadata": {},
   "outputs": [
    {
     "data": {
      "image/png": "[encoded data removed]",
      "text/plain": [
       "<IPython.core.display.Image object>"
      ]
     },
     "execution_count": 2,
     "metadata": {
      "image/png": {
       "height": 500,
       "width": 500
      }
     },
     "output_type": "execute_result"
    }
   ],
   "source": [
    "Image(url = 'http://www.sky-engin.jp/en/MBDynTutorial/chap22/sketch_spring_mass_damper_R.png',\n",
    "      width = 500, height = 500, embed = True)"
   ]
  },
  {
   "cell_type": "code",
   "execution_count": 3,
   "metadata": {},
   "outputs": [
    {
     "data": {
      "application/vnd.jupyter.widget-view+json": {
       "model_id": "844f4425f3dd497a9b4ca412efff4b86",
       "version_major": 2,
       "version_minor": 0
      },
      "text/plain": [
       "interactive(children=(FloatSlider(value=0.1, description='m', max=1.0, step=0.01), FloatSlider(value=0.08, des…"
      ]
     },
     "metadata": {},
     "output_type": "display_data"
    },
    {
     "data": {
      "text/plain": [
       "<function __main__.myPlot(m, c, k, x0, x0_dot)>"
      ]
     },
     "execution_count": 3,
     "metadata": {},
     "output_type": "execute_result"
    }
   ],
   "source": [
    "def myPlot(m, c, k, x0, x0_dot):\n",
    "    def model(x, t, m, c, k):\n",
    "        x1, x2 = x[0], x[1]\n",
    "        \n",
    "        dxdt = np.zeros(2)\n",
    "        dxdt[0] = x2\n",
    "        dxdt[1] = -1/m*(c*x2 + k*x1)\n",
    "        \n",
    "        return dxdt\n",
    "    params = m, c, k\n",
    "    t = np.linspace(0, 20, 100)\n",
    "    x_init = x0, x0_dot\n",
    "    x = odeint(model, x_init, t, args = (*params,))\n",
    "    plt.plot(t, x[:,0], label = '$x(t)$')\n",
    "    plt.plot(t, x[:,1], label = '$\\dot{x}(t)$')\n",
    "    plt.xlabel('Time (s), t')\n",
    "    plt.ylabel('Response, $x(t)$ and $\\dot{x}(t)$')\n",
    "    plt.title('Simple Mass-Damper-Spring System Example')\n",
    "    plt.legend(loc = 'best')\n",
    "    plt.xlim([0, 16])\n",
    "\n",
    "m_slide = wg.FloatSlider(value = 0.1, min = 0, max = 1, step = 0.01)\n",
    "c_slide = wg.FloatSlider(value = 0.08, min = 0, max = 1, step = 0.01)\n",
    "k_slide = wg.FloatSlider(value = 0.5, min = 0, max = 1, step = 0.01)\n",
    "x0_slide1 = wg.FloatSlider(value = 0, min = -2, max = 2, step = 0.01)\n",
    "x0_slide2 = wg.FloatSlider(value = 0.5, min = -2, max = 2, step = 0.01)\n",
    "\n",
    "wg.interact(myPlot, m = m_slide, c = c_slide, k = k_slide, x0 = x0_slide1, x0_dot = x0_slide2)"
   ]
  },
  {
   "cell_type": "code",
   "execution_count": null,
   "metadata": {},
   "outputs": [],
   "source": []
  }
 ],
 "metadata": {
  "kernelspec": {
   "display_name": "Python 3",
   "language": "python",
   "name": "python3"
  },
  "language_info": {
   "codemirror_mode": {
    "name": "ipython",
    "version": 3
   },
   "file_extension": ".py",
   "mimetype": "text/x-python",
   "name": "python",
   "nbconvert_exporter": "python",
   "pygments_lexer": "ipython3",
   "version": "3.7.2"
  }
 },
 "nbformat": 4,
 "nbformat_minor": 2
}
